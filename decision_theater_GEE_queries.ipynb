{
 "cells": [
  {
   "cell_type": "markdown",
   "metadata": {},
   "source": [
    "# Queries for data processing for CI/ASU Decision Theater presentation"
   ]
  },
  {
   "cell_type": "markdown",
   "metadata": {},
   "source": [
    "Import GEE api and json library. Note that `ee.initialize` will fail if the key for GEE has not yet been setup"
   ]
  },
  {
   "cell_type": "code",
   "execution_count": 6,
   "metadata": {},
   "outputs": [],
   "source": [
    "import ee\n",
    "import json\n",
    "import io\n",
    "\n",
    "service_account = 'gef-ldmp-server@gef-ld-toolbox.iam.gserviceaccount.com'\n",
    "credentials = ee.ServiceAccountCredentials(service_account, 'dt_key.json')\n",
    "ee.Initialize(credentials)\n",
    "#ee.Initialize()"
   ]
  },
  {
   "cell_type": "markdown",
   "metadata": {},
   "source": [
    "Define a geojson as a string to use for testing"
   ]
  },
  {
   "cell_type": "code",
   "execution_count": 3,
   "metadata": {},
   "outputs": [],
   "source": [
    "geojson_text = '''{\"type\": \"Polygon\", \"coordinates\": [ [ [ 36.898123159960932, -0.220252698724199 ], [ 37.40818204121706, 0.915787536800825 ], [ 38.613775760549743, 0.011592247301316 ], [ 38.219639352306366, -0.892603042198193 ], [ 36.898123159960932, -0.220252698724199 ] ] ] }'''"
   ]
  },
  {
   "cell_type": "markdown",
   "metadata": {},
   "source": [
    "## Get statistics on areas degraded within a polygon"
   ]
  },
  {
   "cell_type": "code",
   "execution_count": 55,
   "metadata": {},
   "outputs": [
    {
     "name": "stdout",
     "output_type": "stream",
     "text": [
      "[{u'Area Improved': 0.13545880081222242, u'Area No Data': 0.0006406838566133825, u'Area Degraded': 0.5389454846121604, u'Area Stable': 0.3249550307190038}]\n"
     ]
    }
   ],
   "source": [
    "aoi = ee.Geometry(json.loads(geojson_text))\n",
    "\n",
    "# Function to pull areas that are saved as properties within a feature class,\n",
    "# convert them to percentages of the total area, and return as a dictionary\n",
    "def fc_areas_to_pct_dict(fc, normalize=True):\n",
    "    # Note that there may be multiple features\n",
    "    out = []\n",
    "    for p in [feature['properties'] for feature in fc.getInfo()['features']]:\n",
    "        areas = {}\n",
    "        if normalize:\n",
    "            denominator = sum(p.values())\n",
    "        else:\n",
    "            denominator = 1\n",
    "        out.append({key: value/denominator for key,value in p.iteritems()})\n",
    "    return out\n",
    "\n",
    "def get_degradation_areas(aoi):\n",
    "    \"\"\"Return a list of areas within each degradation class for all polygons in geojson\"\"\"\n",
    "    \"Returns area within each of the five degradation classes for each feature in a geojson\"\n",
    "    te_prod = ee.Image(\"users/geflanddegradation/global_ld_analysis/r20180821_lp7cl_globe_2001_2015_modis\").remap([-32768,1,2,3,4,5,6,7],[-32768,-2,-2,0,0,0,2,2])\n",
    "\n",
    "    fields = [\"Area No Data\", \"Area Degraded\", \"Area Stable\", \"Area Improved\"]\n",
    "\n",
    "    # multiply pixel area by the area which experienced each of the five transitions --> output: area in ha\n",
    "    stats = te_prod.eq([-32768, -2, 0, 2]).rename(fields).multiply(ee.Image.pixelArea().divide(10000)).reduceRegions(aoi, ee.Reducer.sum())\n",
    "    \n",
    "    return fc_areas_to_pct_dict(stats)\n",
    "\n",
    "print(get_degradation_areas(aoi))"
   ]
  },
  {
   "cell_type": "code",
   "execution_count": 57,
   "metadata": {},
   "outputs": [
    {
     "name": "stdout",
     "output_type": "stream",
     "text": [
      "51004527707.0\n",
      "{u'population-count': 2347497.286870436}\n",
      "{u'type': u'FeatureCollection', u'features': [{u'geometry': {u'type': u'Polygon', u'geodesic': True, u'coordinates': [[[36.89812315996093, -0.220252698724199], [37.40818204121706, 0.915787536800825], [38.61377576054974, 0.011592247301316], [38.219639352306366, -0.892603042198193], [36.89812315996093, -0.220252698724199]]]}, u'type': u'Feature', u'id': u'0', u'properties': {u'Forest-Based': 0.0, u'Fishery': 8418.681309866846, u'Pastoral': 251701.4419693742, u'Agro-Pastoral': 1124279.2945632995, u'Arid': 0.0, u'Agro-Forestry': 0.0, u'Crops - Rainfed': 640837.4351405775, u'Urban': 0.0, u'Crops - Floodzone': 0.0, u'Crops - Irrigated': 0.0, u'National Park': 0.0, u'Other': 0.0}}], u'columns': {u'system:index': u'String', u'Forest-Based': u'Float', u'Fishery': u'Float', u'Pastoral': u'Float', u'Agro-Pastoral': u'Float', u'Arid': u'Float', u'Agro-Forestry': u'Float', u'Crops - Rainfed': u'Float', u'Urban': u'Float', u'Crops - Floodzone': u'Float', u'Crops - Irrigated': u'Float', u'National Park': u'Float', u'Other': u'Float'}}\n"
     ]
    }
   ],
   "source": [
    "# polygon area in hectares\n",
    "area = aoi.area().divide(10000).getInfo()\n",
    "print area\n",
    "\n",
    "###########################################################/\n",
    "# s2_02: Number of people living inside the polygon in 2015\n",
    "pop_cnt = ee.Image(\"CIESIN/GPWv4/unwpp-adjusted-population-count/2015\");\n",
    "population = pop_cnt.reduceRegion(reducer=ee.Reducer.sum(), geometry=aoi, scale=1000, maxPixels=1e9).getInfo()\n",
    "print population\n",
    "\n",
    "##########################################################/\n",
    "# s2_03: Main livelihoods\n",
    "liv = ee.FeatureCollection(\"users/geflanddegradation/toolbox_datasets/livelihoodzones\")\n",
    "\n",
    "livImage = liv.filter(ee.Filter.neq('lztype_num', None)).reduceToImage(properties=['lztype_num'], reducer=ee.Reducer.first())\n",
    "\n",
    "fields = [\"Agro-Forestry\",\"Agro-Pastoral\", \"Arid\",\"Crops - Floodzone\",\"Crops - Irrigated\",\"Crops - Rainfed\",\"Fishery\",\"Forest-Based\",\"National Park\",\"Other\",\"Pastoral\",\"Urban\"]\n",
    "\n",
    "# multiply pixel area by the area which experienced each of the five transitions --> output: area in ha\n",
    "livelihoodareas = livImage.eq([1,2,3,4,5,6,7,8,9,10,11,12]).rename(fields).multiply(ee.Image.pixelArea().divide(10000)).reduceRegions(aoi, ee.Reducer.sum(),30)\n",
    "print stats.getInfo()\n"
   ]
  },
  {
   "cell_type": "code",
   "execution_count": 50,
   "metadata": {},
   "outputs": [
    {
     "name": "stdout",
     "output_type": "stream",
     "text": [
      "[{u'improving': 0.13732207194709742, u'degraded': 0.5403488674535836, u'nodata': 0.0011595520415940092, u'stable': 0.3211695085577249}]\n",
      "[{u'decline': 0.5389454846121603, u'nodata': 0.0006406838566133824, u'improvement': 0.13545880081222242, u'stable': 0.3249550307190038}]\n",
      "[{u'degradation': 0.0015229421138970199, u'improvement': 0.01210907421085375, u'stable': 0.9863679836752491}]\n",
      "[{u'no data': 0.0010461909413170469, u'degradation': 0.004569578369692355, u'improvement': 0.003875883604160064, u'stable': 0.9905083470848306}]\n"
     ]
    }
   ],
   "source": [
    "##########################################################/\n",
    "# s3_01: SDG 15.3.1 degradation classes \n",
    "\n",
    "te_sdgi = ee.Image(\"users/geflanddegradation/global_ld_analysis/r20180821_sdg1531_gpg_globe_2001_2015_modis\")\n",
    "sdg_areas = te_sdgi.eq([-32768,-1,0,1]).rename([\"nodata\",\"degraded\",\"stable\",\"improving\"]).multiply(ee.Image.pixelArea().divide(10000)).reduceRegions(aoi, ee.Reducer.sum())\n",
    "print fc_areas_to_pct_dict(sdg_areas)\n",
    "\n",
    "###########################################################/\n",
    "# s3_02: Productivity degradation classes\n",
    "te_prod = ee.Image(\"users/geflanddegradation/global_ld_analysis/r20180821_lp7cl_globe_2001_2015_modis\").remap([-32768,1,2,3,4,5,6,7],[-32768,-1,-1,0,0,0,1,1])\n",
    "prod_areas = te_prod.eq([-32768,-1,0,1]).rename([\"nodata\",\"decline\",\"stable\",\"improvement\"]).multiply(ee.Image.pixelArea().divide(10000)).reduceRegions(aoi, ee.Reducer.sum())\n",
    "print fc_areas_to_pct_dict(prod_areas)\n",
    "\n",
    "###########################################################/\n",
    "# s3_03: Land cover degradation classes\n",
    "te_land = ee.Image(\"users/geflanddegradation/global_ld_analysis/r20180821_lc_traj_globe_2001-2001_to_2015\")\n",
    "lc_areas = te_land.select(\"lc_dg\").eq([-1,0,1]).rename([\"degradation\",\"stable\",\"improvement\"]).multiply(ee.Image.pixelArea().divide(10000)).reduceRegions(aoi, ee.Reducer.sum())\n",
    "print fc_areas_to_pct_dict(lc_areas)\n",
    "\n",
    "###########################################################/\n",
    "# s3_04: soc degradation classes\n",
    "te_socc_deg = ee.Image(\"users/geflanddegradation/global_ld_analysis/r20180821_soc_globe_2001-2015_deg\").select(\"soc_deg\")\n",
    "soc_areas = te_socc_deg.eq([-32768,-1,0,1]).rename([\"no data\",\"degradation\",\"stable\",\"improvement\"]).multiply(ee.Image.pixelArea().divide(10000)).reduceRegions(aoi, ee.Reducer.sum())\n",
    "print fc_areas_to_pct_dict(soc_areas)"
   ]
  },
  {
   "cell_type": "code",
   "execution_count": 52,
   "metadata": {},
   "outputs": [
    {
     "name": "stdout",
     "output_type": "stream",
     "text": [
      "[{u'decline': 0.44106435556403983, u'nodata': 7.367366703563312e-05, u'improvement': 0.19284696816349126, u'stable': 0.36601500260543324}]\n",
      "[{u'decline': 0.5529370548327694, u'nodata': 0.00015125333157003256, u'improvement': 0.09677108201358707, u'stable': 0.35014060982207335}]\n",
      "[{u'decline': 0.5695099043142127, u'nodata': 0.00020328707781605126, u'improvement': 0.13796717435782577, u'stable': 0.29231963425014545}]\n"
     ]
    }
   ],
   "source": [
    "###########################################################/\n",
    "# s3_05: compute land cover classes for 2001 and 2015, and the transitions which occured\n",
    "te_land = ee.Image(\"users/geflanddegradation/global_ld_analysis/r20180821_lc_traj_globe_2001-2001_to_2015\").select(\"lc_tr\")\n",
    "te_prod = ee.Image(\"users/geflanddegradation/global_ld_analysis/r20180821_lp7cl_globe_2001_2015_modis\").remap([-32768,1,2,3,4,5,6,7],[-32768,-1,-1,0,0,0,1,1])\n",
    "\n",
    "fields = [\"nodata\",\"decline\",\"stable\",\"improvement\"]\n",
    "\n",
    "prod_forests = te_prod.updateMask(te_land.eq(11)).eq([-32768,-1,0,1]).rename(fields).multiply(ee.Image.pixelArea().divide(10000)).reduceRegions(aoi, ee.Reducer.sum())\n",
    "print fc_areas_to_pct_dict(prod_forests)\n",
    "\n",
    "prod_grasslands = te_prod.updateMask(te_land.eq(22)).eq([-32768,-1,0,1]).rename(fields).multiply(ee.Image.pixelArea().divide(10000)).reduceRegions(aoi, ee.Reducer.sum())\n",
    "print fc_areas_to_pct_dict(prod_grasslands)\n",
    "\n",
    "prod_agriculture = te_prod.updateMask(te_land.eq(33)).eq([-32768,-1,0,1]).rename(fields).multiply(ee.Image.pixelArea().divide(10000)).reduceRegions(aoi, ee.Reducer.sum())\n",
    "print fc_areas_to_pct_dict(prod_agriculture)\n"
   ]
  },
  {
   "cell_type": "code",
   "execution_count": 56,
   "metadata": {},
   "outputs": [
    {
     "name": "stdout",
     "output_type": "stream",
     "text": [
      "[{u'wetlands': 0.0008490522684556844, u'artificial': 1.3243479362564002e-05, u'water': 0.0013331282986892088, u'forest': 0.20891647871751073, u'grassland': 0.31252693899966477, u'agriculture': 0.47155693434852475, u'other land-bare': 0.004804223887792304}]\n",
      "[{u'wetlands': 0.000729860772884661, u'artificial': 0.00015450739266000438, u'water': 0.0013331282986892086, u'forest': 0.21599691344427693, u'grassland': 0.30558720986503685, u'agriculture': 0.4713897419153938, u'other land-bare': 0.004808638311058581}]\n",
      "[{u'for-oth': 0.0, u'art-wat': 0.0, u'wat-for': 0.0, u'oth-art': 0.0, u'for-wet': 26.8167085647583, u'agr-oth': 8.939597129821777, u'wet-wat': 0.0, u'for-gra': 1850.4208908081055, u'oth-oth': 9728.977827390034, u'gra-oth': 0.0, u'oth-gra': 0.0, u'oth-wat': 0.0, u'for-wat': 0.0, u'for-art': 0.0, u'agr-for': 8135.220675606821, u'wet-wet': 1451.2158399432315, u'agr-art': 143.0359592437744, u'gra-for': 8152.039930066874, u'gra-gra': 616364.9029626813, u'wat-agr': 0.0, u'oth-wet': 0.0, u'gra-art': 143.03594589233398, u'art-agr': 0.0, u'for-agr': 178.79275798797607, u'gra-agr': 8234.68448377497, u'art-art': 26.819215774536133, u'wat-wat': 2699.7025871276855, u'art-oth': 0.0, u'gra-wat': 0.0, u'wat-oth': 0.0, u'wat-wet': 0.0, u'agr-wat': 0.0, u'for-for': 421018.29687868373, u'agr-gra': 464.86045837402344, u'wet-art': 0.0, u'wet-gra': 160.91438579559326, u'wet-agr': 0.0, u'oth-for': 0.0, u'art-wet': 0.0, u'wet-oth': 0.0, u'agr-wet': 0.0, u'gra-wet': 0.0, u'wet-for': 107.27563190460205, u'wat-art': 0.0, u'oth-agr': 0.0, u'wat-gra': 0.0, u'agr-agr': 946192.397560932, u'art-for': 0.0, u'art-gra': 0.0}]\n"
     ]
    }
   ],
   "source": [
    "###########################################################/\n",
    "# s3_06: compute land cover classes for 2001 and 2015, and the transitions which occured\n",
    "te_land = ee.Image(\"users/geflanddegradation/global_ld_analysis/r20180821_lc_traj_globe_2001-2001_to_2015\")\n",
    "\n",
    "# field names for annual land covers\n",
    "fields = [\"forest\",\"grassland\",\"agriculture\",\"wetlands\",\"artificial\",\"other land-bare\",\"water\"]\n",
    "\n",
    "# multiply pixel area by the area which experienced each of the lc classes --> output: area in ha\n",
    "stats_bl = te_land.select(\"lc_bl\").eq([1,2,3,4,5,6,7]).rename(fields).multiply(ee.Image.pixelArea().divide(10000)).reduceRegions(aoi, ee.Reducer.sum())\n",
    "# multiply pixel area by the area which experienced each of the lc classes --> output: area in ha\n",
    "stats_tg = te_land.select(\"lc_tg\").eq([1,2,3,4,5,6,7]).rename(fields).multiply(ee.Image.pixelArea().divide(10000)).reduceRegions(aoi, ee.Reducer.sum())\n",
    "\n",
    "print fc_areas_to_pct_dict(stats_bl)\n",
    "print fc_areas_to_pct_dict(stats_tg)\n",
    "\n",
    "# field names for land cover transitions between 2001-2015\n",
    "fields = [\"for-for\",\"for-gra\",\"for-agr\",\"for-wet\",\"for-art\",\"for-oth\",\"for-wat\",\n",
    "          \"gra-for\",\"gra-gra\",\"gra-agr\",\"gra-wet\",\"gra-art\",\"gra-oth\",\"gra-wat\",\n",
    "          \"agr-for\",\"agr-gra\",\"agr-agr\",\"agr-wet\",\"agr-art\",\"agr-oth\",\"agr-wat\",\n",
    "          \"wet-for\",\"wet-gra\",\"wet-agr\",\"wet-wet\",\"wet-art\",\"wet-oth\",\"wet-wat\",\n",
    "          \"art-for\",\"art-gra\",\"art-agr\",\"art-wet\",\"art-art\",\"art-oth\",\"art-wat\",\n",
    "          \"oth-for\",\"oth-gra\",\"oth-agr\",\"oth-wet\",\"oth-art\",\"oth-oth\",\"oth-wat\",\n",
    "          \"wat-for\",\"wat-gra\",\"wat-agr\",\"wat-wet\",\"wat-art\",\"wat-oth\",\"wat-wat\"]\n",
    "\n",
    "# multiply pixel area by the area which experienced each of the lc transition classes --> output: area in ha\n",
    "stats_ch = te_land.select(\"lc_tr\").eq([11,12,13,14,15,16,17,21,22,23,24,25,26,26,31,32,33,34,35,36,37,41,42,43,44,45,46,47,51,52,53,54,55,56,57,\n",
    "              61,62,63,64,65,66,67,71,72,73,74,75,76,77]).rename(fields).multiply(ee.Image.pixelArea().divide(10000)).reduceRegions(aoi, ee.Reducer.sum())\n",
    "print fc_areas_to_pct_dict(stats_ch, normalize=False)\n"
   ]
  },
  {
   "cell_type": "code",
   "execution_count": null,
   "metadata": {},
   "outputs": [],
   "source": [
    "with io.open('out.json', 'w', encoding='utf-8') as f:\n",
    "  f.write(json.dumps(d, ensure_ascii=False, indent=4))"
   ]
  }
 ],
 "metadata": {
  "kernelspec": {
   "display_name": "Python 2",
   "language": "python",
   "name": "python2"
  },
  "language_info": {
   "codemirror_mode": {
    "name": "ipython",
    "version": 2
   },
   "file_extension": ".py",
   "mimetype": "text/x-python",
   "name": "python",
   "nbconvert_exporter": "python",
   "pygments_lexer": "ipython2",
   "version": "2.7.14"
  }
 },
 "nbformat": 4,
 "nbformat_minor": 2
}
