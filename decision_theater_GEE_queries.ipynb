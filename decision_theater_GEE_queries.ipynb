{
 "cells": [
  {
   "cell_type": "markdown",
   "metadata": {},
   "source": [
    "# Queries for data processing for CI/ASU Decision Theater presentation"
   ]
  },
  {
   "cell_type": "markdown",
   "metadata": {},
   "source": [
    "Import GEE api and json library. Note that `ee.initialize` will fail if the key for GEE has not yet been setup"
   ]
  },
  {
   "cell_type": "code",
   "execution_count": 6,
   "metadata": {},
   "outputs": [],
   "source": [
    "import ee\n",
    "import json\n",
    "import io\n",
    "\n",
    "service_account = 'gef-ldmp-server@gef-ld-toolbox.iam.gserviceaccount.com'\n",
    "credentials = ee.ServiceAccountCredentials(service_account, 'dt_key.json')\n",
    "ee.Initialize(credentials)\n",
    "#ee.Initialize()"
   ]
  },
  {
   "cell_type": "markdown",
   "metadata": {},
   "source": [
    "Define a geojson as a string to use for testing"
   ]
  },
  {
   "cell_type": "code",
   "execution_count": 3,
   "metadata": {},
   "outputs": [],
   "source": [
    "geojson_text = '''{\"type\": \"Polygon\", \"coordinates\": [ [ [ 36.898123159960932, -0.220252698724199 ], [ 37.40818204121706, 0.915787536800825 ], [ 38.613775760549743, 0.011592247301316 ], [ 38.219639352306366, -0.892603042198193 ], [ 36.898123159960932, -0.220252698724199 ] ] ] }'''"
   ]
  },
  {
   "cell_type": "markdown",
   "metadata": {},
   "source": [
    "## Get statistics on areas degraded within a polygon"
   ]
  },
  {
   "cell_type": "code",
   "execution_count": 14,
   "metadata": {},
   "outputs": [],
   "source": [
    "def get_degradation_areas(geojson):\n",
    "    \"\"\"Return a list of areas within each degradation class for all polygons in geojson\"\"\"\n",
    "    aoi = ee.Geometry(json.loads(geojson))\n",
    "    \"Returns area within each of the five degradation classes for each feature in a geojson\"\n",
    "    # load trends.earth land productivity indicator from assets (original 7 cl, remap to 5 cl)\n",
    "    te_prod = ee.Image(\"users/geflanddegradation/global_ld_analysis/r20180821_lp7cl_globe_2001_2015_modis\").remap([-32768,1,2,3,4,5,6,7],[-32768,-2,-2,0,0,0,2,2])\n",
    "\n",
    "    # define the names of the fields\n",
    "    fields = [\"Area No Data\", \"Area Degraded\", \"Area Stable\", \"Area Improved\"]\n",
    "\n",
    "    # multiply pixel area by the area which experienced each of the five transitions --> output: area in ha\n",
    "    stats = te_prod.eq([-32768, -2, 0, 2]).rename(fields).multiply(ee.Image.pixelArea().divide(10000)).reduceRegions(aoi, ee.Reducer.sum())\n",
    "    \n",
    "    # Note that there may be multiple features\n",
    "    out = []\n",
    "    for p in [feature['properties'] for feature in stats.getInfo()['features']]:\n",
    "        areas = {}\n",
    "        total_area = sum(p.values())\n",
    "        out.append({key: value/total_area for key,value in p.iteritems()})\n",
    "    return out\n",
    "\n",
    "d = get_degradation_areas(geojson_text)\n",
    "\n",
    "with io.open('out.json', 'w', encoding='utf-8') as f:\n",
    "  f.write(json.dumps(d, ensure_ascii=False, indent=4))"
   ]
  }
 ],
 "metadata": {
  "kernelspec": {
   "display_name": "Python 2",
   "language": "python",
   "name": "python2"
  },
  "language_info": {
   "codemirror_mode": {
    "name": "ipython",
    "version": 2
   },
   "file_extension": ".py",
   "mimetype": "text/x-python",
   "name": "python",
   "nbconvert_exporter": "python",
   "pygments_lexer": "ipython2",
   "version": "2.7.14"
  }
 },
 "nbformat": 4,
 "nbformat_minor": 2
}
